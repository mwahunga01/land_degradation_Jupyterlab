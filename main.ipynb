{
 "cells": [
  {
   "cell_type": "code",
   "execution_count": 1,
   "id": "dff87519",
   "metadata": {},
   "outputs": [],
   "source": [
    "import numpy as np\n",
    "import torch\n",
    "import torch.nn as nn\n",
    "import torch.optim as optim\n",
    "from torch.utils.data import Dataset, DataLoader\n",
    "import matplotlib.pyplot as plt\n",
    "import ee\n",
    "import geemap\n",
    "\n"
   ]
  },
  {
   "cell_type": "code",
   "execution_count": 2,
   "id": "b5cf1fb7",
   "metadata": {},
   "outputs": [
    {
     "data": {
      "text/html": [
       "\n",
       "            <style>\n",
       "                .geemap-dark {\n",
       "                    --jp-widgets-color: white;\n",
       "                    --jp-widgets-label-color: white;\n",
       "                    --jp-ui-font-color1: white;\n",
       "                    --jp-layout-color2: #454545;\n",
       "                    background-color: #383838;\n",
       "                }\n",
       "\n",
       "                .geemap-dark .jupyter-button {\n",
       "                    --jp-layout-color3: #383838;\n",
       "                }\n",
       "\n",
       "                .geemap-colab {\n",
       "                    background-color: var(--colab-primary-surface-color, white);\n",
       "                }\n",
       "\n",
       "                .geemap-colab .jupyter-button {\n",
       "                    --jp-layout-color3: var(--colab-primary-surface-color, white);\n",
       "                }\n",
       "            </style>\n",
       "            "
      ],
      "text/plain": [
       "<IPython.core.display.HTML object>"
      ]
     },
     "metadata": {},
     "output_type": "display_data"
    }
   ],
   "source": [
    "\n",
    "ee.Authenticate()\n",
    "ee.Initialize()\n",
    "\n"
   ]
  },
  {
   "cell_type": "code",
   "execution_count": 3,
   "id": "5c6e73df",
   "metadata": {},
   "outputs": [
    {
     "data": {
      "text/html": [
       "\n",
       "            <style>\n",
       "                .geemap-dark {\n",
       "                    --jp-widgets-color: white;\n",
       "                    --jp-widgets-label-color: white;\n",
       "                    --jp-ui-font-color1: white;\n",
       "                    --jp-layout-color2: #454545;\n",
       "                    background-color: #383838;\n",
       "                }\n",
       "\n",
       "                .geemap-dark .jupyter-button {\n",
       "                    --jp-layout-color3: #383838;\n",
       "                }\n",
       "\n",
       "                .geemap-colab {\n",
       "                    background-color: var(--colab-primary-surface-color, white);\n",
       "                }\n",
       "\n",
       "                .geemap-colab .jupyter-button {\n",
       "                    --jp-layout-color3: var(--colab-primary-surface-color, white);\n",
       "                }\n",
       "            </style>\n",
       "            "
      ],
      "text/plain": [
       "<IPython.core.display.HTML object>"
      ]
     },
     "metadata": {},
     "output_type": "display_data"
    }
   ],
   "source": [
    "m= geemap.Map()\n",
    "roi = ee.Geometry.BBox(36.73, -1.33, 36.76, -1.30)\n",
    "m= geemap.Map(center=[-1.315, 36.745], zoom=13)  # Center on Ngong\n",
    "m.addLayer(roi, {'color': 'red'}, 'Ngong Forest ROI')"
   ]
  },
  {
   "cell_type": "code",
   "execution_count": 12,
   "id": "906ad57f",
   "metadata": {},
   "outputs": [
    {
     "data": {
      "text/html": [
       "\n",
       "            <style>\n",
       "                .geemap-dark {\n",
       "                    --jp-widgets-color: white;\n",
       "                    --jp-widgets-label-color: white;\n",
       "                    --jp-ui-font-color1: white;\n",
       "                    --jp-layout-color2: #454545;\n",
       "                    background-color: #383838;\n",
       "                }\n",
       "\n",
       "                .geemap-dark .jupyter-button {\n",
       "                    --jp-layout-color3: #383838;\n",
       "                }\n",
       "\n",
       "                .geemap-colab {\n",
       "                    background-color: var(--colab-primary-surface-color, white);\n",
       "                }\n",
       "\n",
       "                .geemap-colab .jupyter-button {\n",
       "                    --jp-layout-color3: var(--colab-primary-surface-color, white);\n",
       "                }\n",
       "            </style>\n",
       "            "
      ],
      "text/plain": [
       "<IPython.core.display.HTML object>"
      ]
     },
     "metadata": {},
     "output_type": "display_data"
    },
    {
     "name": "stdout",
     "output_type": "stream",
     "text": [
      "============================================================\n",
      "LAND DEGRADATION ANALYSIS\n",
      "============================================================\n",
      "Years: 2018-2020 (3 years)\n",
      "Resolution: 10m\n",
      "Training epochs: 20\n",
      "============================================================\n"
     ]
    }
   ],
   "source": [
    "\n",
    "YEARS = range(2018, 2021)  \n",
    "SCALE = 10  \n",
    "BATCH_SIZE = 64  \n",
    "EPOCHS = 20 \n",
    "HIDDEN_SIZE = 32  \n",
    "SEQUENCE_LENGTH = 2  \n",
    "\n",
    "print(\"=\"*60)\n",
    "print(\"LAND DEGRADATION ANALYSIS\")\n",
    "print(\"=\"*60)\n",
    "print(f\"Years: {min(YEARS)}-{max(YEARS)} ({len(YEARS)} years)\")\n",
    "print(f\"Resolution: {SCALE}m\")\n",
    "print(f\"Training epochs: {EPOCHS}\")\n",
    "print(\"=\"*60)\n",
    "\n",
    "\n",
    "def mask_s2_clouds(image):\n",
    "    qa = image.select('QA60')\n",
    "    cloud_bit_mask = 1 << 10\n",
    "    cirrus_bit_mask = 1 << 11\n",
    "    mask = qa.bitwiseAnd(cloud_bit_mask).eq(0).And(\n",
    "        qa.bitwiseAnd(cirrus_bit_mask).eq(0))\n",
    "    \n",
    "    scl = image.select('SCL')\n",
    "    scl_mask = scl.eq(3).Or(scl.eq(8)).Or(scl.eq(9)).Or(scl.eq(10)).Not()\n",
    "    \n",
    "    combined_mask = mask.And(scl_mask)\n",
    "    return image.updateMask(combined_mask).divide(10000)\n"
   ]
  },
  {
   "cell_type": "code",
   "execution_count": 15,
   "id": "77d7179d",
   "metadata": {},
   "outputs": [
    {
     "data": {
      "text/html": [
       "\n",
       "            <style>\n",
       "                .geemap-dark {\n",
       "                    --jp-widgets-color: white;\n",
       "                    --jp-widgets-label-color: white;\n",
       "                    --jp-ui-font-color1: white;\n",
       "                    --jp-layout-color2: #454545;\n",
       "                    background-color: #383838;\n",
       "                }\n",
       "\n",
       "                .geemap-dark .jupyter-button {\n",
       "                    --jp-layout-color3: #383838;\n",
       "                }\n",
       "\n",
       "                .geemap-colab {\n",
       "                    background-color: var(--colab-primary-surface-color, white);\n",
       "                }\n",
       "\n",
       "                .geemap-colab .jupyter-button {\n",
       "                    --jp-layout-color3: var(--colab-primary-surface-color, white);\n",
       "                }\n",
       "            </style>\n",
       "            "
      ],
      "text/plain": [
       "<IPython.core.display.HTML object>"
      ]
     },
     "metadata": {},
     "output_type": "display_data"
    },
    {
     "name": "stdout",
     "output_type": "stream",
     "text": [
      "  ✓ Year 2018: 2 images\n",
      "  ✓ Year 2019: 16 images\n",
      "  ✓ Year 2020: 13 images\n",
      "✓ Collected 3 years of data\n"
     ]
    }
   ],
   "source": [
    "\n",
    "# ============================================================================\n",
    "# CELL 2: Collect NDVI Data\n",
    "# ============================================================================\n",
    "\n",
    "annual_ndvi = []\n",
    "for year in YEARS:\n",
    "    start_date = f'{year}-01-01'\n",
    "    end_date = f'{year}-12-31'\n",
    "    \n",
    "    collection = (ee.ImageCollection('COPERNICUS/S2_SR')\n",
    "                  .filterBounds(roi)\n",
    "                  .filterDate(start_date, end_date)\n",
    "                  .filter(ee.Filter.lt('CLOUDY_PIXEL_PERCENTAGE', 20))\n",
    "                  .map(mask_s2_clouds)\n",
    "                  .select(['B4', 'B8']))\n",
    "    \n",
    "    median_img = collection.median().clip(roi)\n",
    "    ndvi = median_img.normalizedDifference(['B8', 'B4']).rename('NDVI')\n",
    "    \n",
    "    date_millis = ee.Date(f'{year}-07-01').millis()\n",
    "    ndvi = ndvi.set({\n",
    "        'system:time_start': date_millis,\n",
    "        'year': year,\n",
    "        'system:index': str(year)\n",
    "    })\n",
    "    \n",
    "    annual_ndvi.append(ndvi)\n",
    "    print(f\"  ✓ Year {year}: {collection.size().getInfo()} images\")\n",
    "\n",
    "print(f\"✓ Collected {len(annual_ndvi)} years of data\")\n",
    "\n",
    "\n"
   ]
  },
  {
   "cell_type": "code",
   "execution_count": 16,
   "id": "7d4dd7e5",
   "metadata": {},
   "outputs": [
    {
     "data": {
      "text/html": [
       "\n",
       "            <style>\n",
       "                .geemap-dark {\n",
       "                    --jp-widgets-color: white;\n",
       "                    --jp-widgets-label-color: white;\n",
       "                    --jp-ui-font-color1: white;\n",
       "                    --jp-layout-color2: #454545;\n",
       "                    background-color: #383838;\n",
       "                }\n",
       "\n",
       "                .geemap-dark .jupyter-button {\n",
       "                    --jp-layout-color3: #383838;\n",
       "                }\n",
       "\n",
       "                .geemap-colab {\n",
       "                    background-color: var(--colab-primary-surface-color, white);\n",
       "                }\n",
       "\n",
       "                .geemap-colab .jupyter-button {\n",
       "                    --jp-layout-color3: var(--colab-primary-surface-color, white);\n",
       "                }\n",
       "            </style>\n",
       "            "
      ],
      "text/plain": [
       "<IPython.core.display.HTML object>"
      ]
     },
     "metadata": {},
     "output_type": "display_data"
    },
    {
     "data": {
      "application/vnd.jupyter.widget-view+json": {
       "model_id": "b426d5df06464f29877bb037f609bbc6",
       "version_major": 2,
       "version_minor": 0
      },
      "text/plain": [
       "Map(bottom=2112756.0, center=[-1.3134378057934368, 36.74497604370118], controls=(WidgetControl(options=['posit…"
      ]
     },
     "execution_count": 16,
     "metadata": {},
     "output_type": "execute_result"
    }
   ],
   "source": [
    "#NDVI interactive map visualizations\n",
    "ndvi_collection = ee.ImageCollection.fromImages(annual_ndvi)\n",
    "\n",
    "vis_params = {'min': -0.5, 'max': 0.9, 'palette': ['red', 'yellow', 'green']}\n",
    "for ndvi_img in annual_ndvi:\n",
    "    year = ndvi_img.get('year').getInfo()\n",
    "    m.addLayer(ndvi_img, vis_params, f'NDVI {year}')\n",
    "m"
   ]
  },
  {
   "cell_type": "code",
   "execution_count": null,
   "id": "f50bdaa4",
   "metadata": {},
   "outputs": [],
   "source": [
    "#NDVI Timelapse Animation\n",
    "timelapse = geemap.create_timelapse(\n",
    "    ndvi_collection,\n",
    "    out_gif=\"ngong_ndvi_timelapse.gif\",\n",
    "    start_date=\"2018-01-01\",\n",
    "    end_date=\"2024-12-31\",  # Extended to include 2023\n",
    "    region=roi,  # Add region parameter\n",
    "    vis_params=vis_params,\n",
    "    dimensions=768,  # Image width\n",
    "    frames_per_second=1,\n",
    "    title=\"Ngong Forest NDVI (2018-2023)\",\n",
    "    title_xy=('3%', '5%'),\n",
    "    add_text=True,\n",
    "    text_sequence=['2018', '2019', '2020', '2021', '2022', '2023'],\n",
    "    font_size=30,\n",
    "    font_color='white',\n",
    "    add_progress_bar=True,\n",
    "    progress_bar_color='blue'\n",
    ")\n",
    "\n",
    "geemap.show_image(\"ngong_ndvi_timelapse.gif\")\n"
   ]
  },
  {
   "cell_type": "code",
   "execution_count": 18,
   "id": "b28395a9",
   "metadata": {},
   "outputs": [
    {
     "data": {
      "text/html": [
       "\n",
       "            <style>\n",
       "                .geemap-dark {\n",
       "                    --jp-widgets-color: white;\n",
       "                    --jp-widgets-label-color: white;\n",
       "                    --jp-ui-font-color1: white;\n",
       "                    --jp-layout-color2: #454545;\n",
       "                    background-color: #383838;\n",
       "                }\n",
       "\n",
       "                .geemap-dark .jupyter-button {\n",
       "                    --jp-layout-color3: #383838;\n",
       "                }\n",
       "\n",
       "                .geemap-colab {\n",
       "                    background-color: var(--colab-primary-surface-color, white);\n",
       "                }\n",
       "\n",
       "                .geemap-colab .jupyter-button {\n",
       "                    --jp-layout-color3: var(--colab-primary-surface-color, white);\n",
       "                }\n",
       "            </style>\n",
       "            "
      ],
      "text/plain": [
       "<IPython.core.display.HTML object>"
      ]
     },
     "metadata": {},
     "output_type": "display_data"
    },
    {
     "name": "stdout",
     "output_type": "stream",
     "text": [
      "\n",
      "📊 Calculating mean NDVI...\n",
      "\n",
      "Mean NDVI values:\n",
      "  2018: 0.5997\n",
      "  2019: 0.4995\n",
      "  2020: 0.5856\n"
     ]
    },
    {
     "data": {
      "image/png": "[encoded data removed]",
      "text/plain": [
       "<Figure size 800x400 with 1 Axes>"
      ]
     },
     "metadata": {},
     "output_type": "display_data"
    }
   ],
   "source": [
    "\n",
    "# ============================================================================\n",
    "# CELL 3: Calculate Mean NDVI\n",
    "# ============================================================================\n",
    "print(\"\\n📊 Calculating mean NDVI...\")\n",
    "\n",
    "ndvi_collection = ee.ImageCollection.fromImages(annual_ndvi)\n",
    "\n",
    "def calculate_mean(image):\n",
    "    mean = image.reduceRegion(\n",
    "        reducer=ee.Reducer.mean(),\n",
    "        geometry=roi,\n",
    "        scale=SCALE,\n",
    "        maxPixels=1e9\n",
    "    )\n",
    "    return image.set('mean_ndvi', mean.get('NDVI'))\n",
    "\n",
    "NDVI_with_means = ndvi_collection.map(calculate_mean)\n",
    "means_list = NDVI_with_means.aggregate_array('mean_ndvi').getInfo()\n",
    "years_list = list(YEARS)\n",
    "\n",
    "print(\"\\nMean NDVI values:\")\n",
    "for year, mean_val in zip(years_list, means_list):\n",
    "    print(f\"  {year}: {mean_val:.4f}\")\n",
    "\n",
    "# Quick visualization\n",
    "plt.figure(figsize=(8, 4))\n",
    "plt.plot(years_list, means_list, marker='o', linewidth=2, \n",
    "         markersize=8, color='green')\n",
    "plt.xlabel('Year')\n",
    "plt.ylabel('Mean NDVI')\n",
    "plt.title('Yearly Mean NDVI Trend')\n",
    "plt.grid(True, alpha=0.3)\n",
    "plt.tight_layout()\n",
    "plt.show()\n"
   ]
  },
  {
   "cell_type": "code",
   "execution_count": 21,
   "id": "15aa4f4e",
   "metadata": {},
   "outputs": [
    {
     "data": {
      "text/html": [
       "\n",
       "            <style>\n",
       "                .geemap-dark {\n",
       "                    --jp-widgets-color: white;\n",
       "                    --jp-widgets-label-color: white;\n",
       "                    --jp-ui-font-color1: white;\n",
       "                    --jp-layout-color2: #454545;\n",
       "                    background-color: #383838;\n",
       "                }\n",
       "\n",
       "                .geemap-dark .jupyter-button {\n",
       "                    --jp-layout-color3: #383838;\n",
       "                }\n",
       "\n",
       "                .geemap-colab {\n",
       "                    background-color: var(--colab-primary-surface-color, white);\n",
       "                }\n",
       "\n",
       "                .geemap-colab .jupyter-button {\n",
       "                    --jp-layout-color3: var(--colab-primary-surface-color, white);\n",
       "                }\n",
       "            </style>\n",
       "            "
      ],
      "text/plain": [
       "<IPython.core.display.HTML object>"
      ]
     },
     "metadata": {},
     "output_type": "display_data"
    },
    {
     "name": "stdout",
     "output_type": "stream",
     "text": [
      "\n",
      "📥 Exporting NDVI arrays...\n",
      "  Exporting 2018...\n",
      "    Shape: (335, 335), Range: [-0.466, 0.890]\n",
      "  Exporting 2019...\n",
      "    Shape: (335, 335), Range: [-0.281, 0.828]\n",
      "  Exporting 2020...\n",
      "    Shape: (335, 335), Range: [-0.432, 0.874]\n",
      "✓ Exported 3 arrays\n"
     ]
    }
   ],
   "source": [
    "\n",
    "# ============================================================================\n",
    "# CELL 4: Export NDVI Arrays \n",
    "# ============================================================================\n",
    "print(\"\\n📥 Exporting NDVI arrays...\")\n",
    "\n",
    "def export_ndvi_arrays(roi, annual_ndvi, scale=SCALE):\n",
    "    \"\"\"Export NDVI with optimized resolution\"\"\"\n",
    "    ndvi_arrays = []\n",
    "    \n",
    "    for i, ndvi_img in enumerate(annual_ndvi):\n",
    "        year = min(YEARS) + i\n",
    "        print(f\"  Exporting {year}...\")\n",
    "        \n",
    "        try:\n",
    "            ndvi_array = geemap.ee_to_numpy(\n",
    "                ndvi_img, region=roi, scale=scale, bands=['NDVI']\n",
    "            )\n",
    "        except:\n",
    "            ndvi_data = ndvi_img.sampleRectangle(region=roi, defaultValue=0)\n",
    "            ndvi_array = np.array(ndvi_data.get('NDVI').getInfo())\n",
    "        \n",
    "        if len(ndvi_array.shape) == 3:\n",
    "            ndvi_array = ndvi_array.squeeze()\n",
    "        \n",
    "        ndvi_arrays.append(ndvi_array)\n",
    "        print(f\"    Shape: {ndvi_array.shape}, Range: [{np.nanmin(ndvi_array):.3f}, {np.nanmax(ndvi_array):.3f}]\")\n",
    "    \n",
    "    return ndvi_arrays\n",
    "\n",
    "ndvi_arrays = export_ndvi_arrays(roi, annual_ndvi)\n",
    "print(f\"✓ Exported {len(ndvi_arrays)} arrays\")\n"
   ]
  },
  {
   "cell_type": "code",
   "execution_count": 22,
   "id": "3b2ac510",
   "metadata": {},
   "outputs": [
    {
     "data": {
      "text/html": [
       "\n",
       "            <style>\n",
       "                .geemap-dark {\n",
       "                    --jp-widgets-color: white;\n",
       "                    --jp-widgets-label-color: white;\n",
       "                    --jp-ui-font-color1: white;\n",
       "                    --jp-layout-color2: #454545;\n",
       "                    background-color: #383838;\n",
       "                }\n",
       "\n",
       "                .geemap-dark .jupyter-button {\n",
       "                    --jp-layout-color3: #383838;\n",
       "                }\n",
       "\n",
       "                .geemap-colab {\n",
       "                    background-color: var(--colab-primary-surface-color, white);\n",
       "                }\n",
       "\n",
       "                .geemap-colab .jupyter-button {\n",
       "                    --jp-layout-color3: var(--colab-primary-surface-color, white);\n",
       "                }\n",
       "            </style>\n",
       "            "
      ],
      "text/plain": [
       "<IPython.core.display.HTML object>"
      ]
     },
     "metadata": {},
     "output_type": "display_data"
    },
    {
     "name": "stdout",
     "output_type": "stream",
     "text": [
      "\n",
      "🏷️  Creating degradation labels...\n",
      "  2018→2019: 86,802 degraded pixels (77.4%)\n",
      "  2019→2020: 3,006 degraded pixels (2.7%)\n",
      "✓ Created 2 label arrays\n"
     ]
    }
   ],
   "source": [
    "\n",
    "# ============================================================================\n",
    "# CELL 5: Create Labels\n",
    "# ============================================================================\n",
    "print(\"\\n🏷️  Creating degradation labels...\")\n",
    "\n",
    "def create_degradation_labels(ndvi_arrays, threshold=-0.05):\n",
    "    \"\"\"Create binary degradation labels\"\"\"\n",
    "    labels = []\n",
    "    \n",
    "    for i in range(len(ndvi_arrays) - 1):\n",
    "        year_current = min(YEARS) + i\n",
    "        array_current = np.nan_to_num(ndvi_arrays[i], nan=0.0)\n",
    "        array_next = np.nan_to_num(ndvi_arrays[i + 1], nan=0.0)\n",
    "        \n",
    "        ndvi_change = array_next - array_current\n",
    "        degraded = (ndvi_change < threshold).astype(np.float32)\n",
    "        \n",
    "        valid_pixels = (array_current != 0) & (array_next != 0)\n",
    "        num_degraded = np.sum(degraded[valid_pixels])\n",
    "        percent = 100 * num_degraded / np.sum(valid_pixels)\n",
    "        \n",
    "        print(f\"  {year_current}→{year_current+1}: {int(num_degraded):,} degraded pixels ({percent:.1f}%)\")\n",
    "        labels.append(degraded)\n",
    "    \n",
    "    return labels\n",
    "\n",
    "labels = create_degradation_labels(ndvi_arrays)\n",
    "print(f\"✓ Created {len(labels)} label arrays\")\n"
   ]
  },
  {
   "cell_type": "code",
   "execution_count": 23,
   "id": "6fb4f32a",
   "metadata": {},
   "outputs": [
    {
     "data": {
      "text/html": [
       "\n",
       "            <style>\n",
       "                .geemap-dark {\n",
       "                    --jp-widgets-color: white;\n",
       "                    --jp-widgets-label-color: white;\n",
       "                    --jp-ui-font-color1: white;\n",
       "                    --jp-layout-color2: #454545;\n",
       "                    background-color: #383838;\n",
       "                }\n",
       "\n",
       "                .geemap-dark .jupyter-button {\n",
       "                    --jp-layout-color3: #383838;\n",
       "                }\n",
       "\n",
       "                .geemap-colab {\n",
       "                    background-color: var(--colab-primary-surface-color, white);\n",
       "                }\n",
       "\n",
       "                .geemap-colab .jupyter-button {\n",
       "                    --jp-layout-color3: var(--colab-primary-surface-color, white);\n",
       "                }\n",
       "            </style>\n",
       "            "
      ],
      "text/plain": [
       "<IPython.core.display.HTML object>"
      ]
     },
     "metadata": {},
     "output_type": "display_data"
    },
    {
     "name": "stdout",
     "output_type": "stream",
     "text": [
      "\n",
      "🎲 Creating dataset with spatial sampling...\n",
      "  Data shape: (3, 335, 335)\n",
      "✓ Created 11,222 samples\n",
      "✓ Degraded: 283 (2.5%)\n",
      "\n",
      "📊 Data split:\n",
      "   Training: 8,977\n",
      "   Validation: 2,245\n"
     ]
    }
   ],
   "source": [
    "\n",
    "# ============================================================================\n",
    "# CELL 6: Lightweight Dataset (Spatial Sampling)\n",
    "# ============================================================================\n",
    "print(\"\\n🎲 Creating dataset with spatial sampling...\")\n",
    "\n",
    "class LightweightNDVIDataset(Dataset):\n",
    "    \"\"\"Spatially sampled dataset for reduced memory usage\"\"\"\n",
    "    \n",
    "    def __init__(self, ndvi_arrays, labels=None, sequence_length=SEQUENCE_LENGTH, \n",
    "                 sample_rate=0.1):  # Sample only 10% of pixels\n",
    "        self.sequence_length = sequence_length\n",
    "        self.labels = labels\n",
    "        \n",
    "        # Stack and normalize\n",
    "        self.data = np.stack(ndvi_arrays, axis=0)\n",
    "        self.data = np.nan_to_num(self.data, nan=0.0)\n",
    "        self.data = np.clip((self.data + 1) / 2, 0, 1)\n",
    "        \n",
    "        self.n_years, self.height, self.width = self.data.shape\n",
    "        print(f\"  Data shape: {self.data.shape}\")\n",
    "        \n",
    "        # Create sequences with spatial sampling\n",
    "        self.sequences = []\n",
    "        self.targets = []\n",
    "        \n",
    "        # Sample pixels randomly\n",
    "        total_pixels = self.height * self.width\n",
    "        n_samples = int(total_pixels * sample_rate)\n",
    "        \n",
    "        rng = np.random.RandomState(42)\n",
    "        sampled_indices = rng.choice(total_pixels, n_samples, replace=False)\n",
    "        \n",
    "        for idx in sampled_indices:\n",
    "            i = idx // self.width\n",
    "            j = idx % self.width\n",
    "            \n",
    "            for t in range(self.n_years - sequence_length):\n",
    "                seq = self.data[t:t+sequence_length, i, j]\n",
    "                \n",
    "                if np.sum(seq) > 0:\n",
    "                    self.sequences.append(seq)\n",
    "                    \n",
    "                    if labels is not None:\n",
    "                        target = labels[t + sequence_length - 1][i, j]\n",
    "                        self.targets.append(target)\n",
    "        \n",
    "        self.sequences = np.array(self.sequences, dtype=np.float32)\n",
    "        if labels is not None:\n",
    "            self.targets = np.array(self.targets, dtype=np.float32)\n",
    "        \n",
    "        print(f\"✓ Created {len(self.sequences):,} samples\")\n",
    "        if labels is not None:\n",
    "            num_degraded = np.sum(self.targets)\n",
    "            print(f\"✓ Degraded: {int(num_degraded):,} ({100*num_degraded/len(self.targets):.1f}%)\")\n",
    "    \n",
    "    def __len__(self):\n",
    "        return len(self.sequences)\n",
    "    \n",
    "    def __getitem__(self, idx):\n",
    "        sequence = torch.FloatTensor(self.sequences[idx])\n",
    "        if self.targets is not None:\n",
    "            target = torch.FloatTensor([self.targets[idx]])\n",
    "            return sequence, target\n",
    "        return sequence\n",
    "\n",
    "# Create dataset with sampling\n",
    "dataset = LightweightNDVIDataset(ndvi_arrays, labels, \n",
    "                                  sequence_length=SEQUENCE_LENGTH,\n",
    "                                  sample_rate=0.1)\n",
    "\n",
    "# Split\n",
    "train_size = int(0.8 * len(dataset))\n",
    "val_size = len(dataset) - train_size\n",
    "train_dataset, val_dataset = torch.utils.data.random_split(\n",
    "    dataset, [train_size, val_size]\n",
    ")\n",
    "\n",
    "print(f\"\\n📊 Data split:\")\n",
    "print(f\"   Training: {len(train_dataset):,}\")\n",
    "print(f\"   Validation: {len(val_dataset):,}\")\n",
    "\n",
    "# Create loaders\n",
    "train_loader = DataLoader(train_dataset, batch_size=BATCH_SIZE, shuffle=True)\n",
    "val_loader = DataLoader(val_dataset, batch_size=BATCH_SIZE, shuffle=False)\n"
   ]
  },
  {
   "cell_type": "code",
   "execution_count": 24,
   "id": "6f147e34",
   "metadata": {},
   "outputs": [
    {
     "data": {
      "text/html": [
       "\n",
       "            <style>\n",
       "                .geemap-dark {\n",
       "                    --jp-widgets-color: white;\n",
       "                    --jp-widgets-label-color: white;\n",
       "                    --jp-ui-font-color1: white;\n",
       "                    --jp-layout-color2: #454545;\n",
       "                    background-color: #383838;\n",
       "                }\n",
       "\n",
       "                .geemap-dark .jupyter-button {\n",
       "                    --jp-layout-color3: #383838;\n",
       "                }\n",
       "\n",
       "                .geemap-colab {\n",
       "                    background-color: var(--colab-primary-surface-color, white);\n",
       "                }\n",
       "\n",
       "                .geemap-colab .jupyter-button {\n",
       "                    --jp-layout-color3: var(--colab-primary-surface-color, white);\n",
       "                }\n",
       "            </style>\n",
       "            "
      ],
      "text/plain": [
       "<IPython.core.display.HTML object>"
      ]
     },
     "metadata": {},
     "output_type": "display_data"
    },
    {
     "name": "stdout",
     "output_type": "stream",
     "text": [
      "\n",
      "🧠 Building lightweight model...\n",
      "✓ Model parameters: 4,513\n"
     ]
    }
   ],
   "source": [
    "\n",
    "# ============================================================================\n",
    "# CELL 7: Building Model\n",
    "# ============================================================================\n",
    "print(\"\\n🧠 Building lightweight model...\")\n",
    "\n",
    "class LightDegradationModel(nn.Module):\n",
    "    \"\"\"Compact LSTM model\"\"\"\n",
    "    \n",
    "    def __init__(self, hidden_size=HIDDEN_SIZE, num_layers=1):\n",
    "        super(LightDegradationModel, self).__init__()\n",
    "        \n",
    "        self.lstm = nn.LSTM(\n",
    "            input_size=1,\n",
    "            hidden_size=hidden_size,\n",
    "            num_layers=num_layers,\n",
    "            batch_first=True\n",
    "        )\n",
    "        \n",
    "        self.fc = nn.Linear(hidden_size, 1)\n",
    "        self.sigmoid = nn.Sigmoid()\n",
    "    \n",
    "    def forward(self, x):\n",
    "        x = x.unsqueeze(-1)\n",
    "        lstm_out, _ = self.lstm(x)\n",
    "        last_hidden = lstm_out[:, -1, :]\n",
    "        out = self.fc(last_hidden)\n",
    "        out = self.sigmoid(out)\n",
    "        return out\n",
    "\n",
    "model = LightDegradationModel(hidden_size=HIDDEN_SIZE, num_layers=1)\n",
    "total_params = sum(p.numel() for p in model.parameters())\n",
    "print(f\"✓ Model parameters: {total_params:,}\")\n"
   ]
  },
  {
   "cell_type": "code",
   "execution_count": null,
   "id": "c0e93c80",
   "metadata": {},
   "outputs": [
    {
     "data": {
      "text/html": [
       "\n",
       "            <style>\n",
       "                .geemap-dark {\n",
       "                    --jp-widgets-color: white;\n",
       "                    --jp-widgets-label-color: white;\n",
       "                    --jp-ui-font-color1: white;\n",
       "                    --jp-layout-color2: #454545;\n",
       "                    background-color: #383838;\n",
       "                }\n",
       "\n",
       "                .geemap-dark .jupyter-button {\n",
       "                    --jp-layout-color3: #383838;\n",
       "                }\n",
       "\n",
       "                .geemap-colab {\n",
       "                    background-color: var(--colab-primary-surface-color, white);\n",
       "                }\n",
       "\n",
       "                .geemap-colab .jupyter-button {\n",
       "                    --jp-layout-color3: var(--colab-primary-surface-color, white);\n",
       "                }\n",
       "            </style>\n",
       "            "
      ],
      "text/plain": [
       "<IPython.core.display.HTML object>"
      ]
     },
     "metadata": {},
     "output_type": "display_data"
    },
    {
     "name": "stdout",
     "output_type": "stream",
     "text": [
      "\n",
      "🚀 Training model...\n",
      "  Device: cpu\n",
      "  Epoch 5/20: Train Loss=0.1166, Val Loss=0.1064\n"
     ]
    }
   ],
   "source": [
    "\n",
    "# ============================================================================\n",
    "# CELL 8: Fast Training\n",
    "# ============================================================================\n",
    "print(\"\\n🚀 Training model...\")\n",
    "\n",
    "def train_model(model, train_loader, val_loader, epochs=EPOCHS, lr=0.001):\n",
    "    \"\"\"Efficient training loop\"\"\"\n",
    "    device = torch.device('cuda' if torch.cuda.is_available() else 'cpu')\n",
    "    print(f\"  Device: {device}\")\n",
    "    \n",
    "    model = model.to(device)\n",
    "    criterion = nn.BCELoss()\n",
    "    optimizer = optim.Adam(model.parameters(), lr=lr)\n",
    "    \n",
    "    train_losses = []\n",
    "    val_losses = []\n",
    "    best_val_loss = float('inf')\n",
    "    \n",
    "    for epoch in range(epochs):\n",
    "        # Training\n",
    "        model.train()\n",
    "        train_loss = 0\n",
    "        \n",
    "        for sequences, targets in train_loader:\n",
    "            sequences, targets = sequences.to(device), targets.to(device)\n",
    "            \n",
    "            outputs = model(sequences)\n",
    "            loss = criterion(outputs, targets)\n",
    "            \n",
    "            optimizer.zero_grad()\n",
    "            loss.backward()\n",
    "            optimizer.step()\n",
    "            \n",
    "            train_loss += loss.item()\n",
    "        \n",
    "        avg_train_loss = train_loss / len(train_loader)\n",
    "        train_losses.append(avg_train_loss)\n",
    "        \n",
    "        # Validation\n",
    "        model.eval()\n",
    "        val_loss = 0\n",
    "        \n",
    "        with torch.no_grad():\n",
    "            for sequences, targets in val_loader:\n",
    "                sequences, targets = sequences.to(device), targets.to(device)\n",
    "                outputs = model(sequences)\n",
    "                loss = criterion(outputs, targets)\n",
    "                val_loss += loss.item()\n",
    "        \n",
    "        avg_val_loss = val_loss / len(val_loader)\n",
    "        val_losses.append(avg_val_loss)\n",
    "        \n",
    "        if avg_val_loss < best_val_loss:\n",
    "            best_val_loss = avg_val_loss\n",
    "            torch.save(model.state_dict(), 'best_model.pth')\n",
    "        \n",
    "        if (epoch + 1) % 5 == 0:\n",
    "            print(f'  Epoch {epoch+1}/{epochs}: Train Loss={avg_train_loss:.4f}, Val Loss={avg_val_loss:.4f}')\n",
    "    \n",
    "    print(f\"\\n✓ Training complete! Best val loss: {best_val_loss:.4f}\")\n",
    "    return train_losses, val_losses\n",
    "\n",
    "train_losses, val_losses = train_model(model, train_loader, val_loader)\n",
    "\n",
    "# Plot\n",
    "plt.figure(figsize=(8, 4))\n",
    "plt.plot(train_losses, label='Train', linewidth=2)\n",
    "plt.plot(val_losses, label='Validation', linewidth=2)\n",
    "plt.xlabel('Epoch')\n",
    "plt.ylabel('Loss')\n",
    "plt.title('Training Progress')\n",
    "plt.legend()\n",
    "plt.grid(True, alpha=0.3)\n",
    "plt.tight_layout()\n",
    "plt.show()\n"
   ]
  },
  {
   "cell_type": "code",
   "execution_count": null,
   "id": "6bffed16",
   "metadata": {},
   "outputs": [],
   "source": [
    "\n",
    "# ============================================================================\n",
    "# CELL 9: Predict\n",
    "# ============================================================================\n",
    "print(\"\\n🔮 Generating predictions...\")\n",
    "\n",
    "def predict_degradation(model, ndvi_arrays, sequence_length=SEQUENCE_LENGTH):\n",
    "    \"\"\"Predict degradation map\"\"\"\n",
    "    device = torch.device('cuda' if torch.cuda.is_available() else 'cpu')\n",
    "    model.eval()\n",
    "    model = model.to(device)\n",
    "    \n",
    "    recent_data = np.stack(ndvi_arrays[-sequence_length:], axis=0)\n",
    "    recent_data = np.nan_to_num(recent_data, nan=0.0)\n",
    "    recent_data = np.clip((recent_data + 1) / 2, 0, 1)\n",
    "    \n",
    "    height, width = recent_data.shape[1], recent_data.shape[2]\n",
    "    degradation_map = np.zeros((height, width))\n",
    "    \n",
    "    with torch.no_grad():\n",
    "        for i in range(height):\n",
    "            if i % 20 == 0:\n",
    "                print(f\"  Progress: {100*i/height:.0f}%\", end='\\r')\n",
    "            for j in range(width):\n",
    "                sequence = recent_data[:, i, j]\n",
    "                if np.sum(sequence) > 0:\n",
    "                    seq_tensor = torch.FloatTensor(sequence).unsqueeze(0).to(device)\n",
    "                    prediction = model(seq_tensor).cpu().numpy()[0, 0]\n",
    "                    degradation_map[i, j] = prediction\n",
    "    \n",
    "    print(\"  Progress: 100%\")\n",
    "    return degradation_map\n",
    "\n",
    "model.load_state_dict(torch.load('best_model.pth'))\n",
    "degradation_map = predict_degradation(model, ndvi_arrays)\n",
    "print(\"✓ Prediction complete!\")\n"
   ]
  },
  {
   "cell_type": "code",
   "execution_count": null,
   "id": "c681e3fb",
   "metadata": {},
   "outputs": [],
   "source": [
    "\n",
    "# ============================================================================\n",
    "# CELL 10: Visualize\n",
    "# ============================================================================\n",
    "print(\"\\n🗺️  Creating risk map...\")\n",
    "\n",
    "plt.figure(figsize=(10, 8))\n",
    "im = plt.imshow(degradation_map, cmap='RdYlGn_r', vmin=0, vmax=1)\n",
    "plt.colorbar(im, label='Degradation Risk', shrink=0.8)\n",
    "plt.title('Land Degradation Risk Map', fontsize=14, fontweight='bold')\n",
    "plt.xlabel('West → East')\n",
    "plt.ylabel('North → South')\n",
    "\n",
    "legend_text = \"\"\"RISK LEVELS:\n",
    "🟢 Low (0.0-0.3)\n",
    "🟡 Medium (0.3-0.6)\n",
    "🔴 High (0.6-1.0)\"\"\"\n",
    "\n",
    "plt.text(0.02, 0.98, legend_text, transform=plt.gca().transAxes,\n",
    "         verticalalignment='top', fontsize=9,\n",
    "         bbox=dict(boxstyle='round', facecolor='white', alpha=0.9))\n",
    "\n",
    "plt.tight_layout()\n",
    "plt.savefig('degradation_risk_map.png', dpi=150, bbox_inches='tight')\n",
    "plt.show()\n",
    "\n",
    "# Statistics\n",
    "valid = degradation_map[degradation_map > 0]\n",
    "high = np.sum(valid > 0.6)\n",
    "medium = np.sum((valid > 0.3) & (valid <= 0.6))\n",
    "low = np.sum(valid <= 0.3)\n",
    "total = len(valid)\n",
    "\n",
    "print(\"\\n📊 RISK DISTRIBUTION:\")\n",
    "print(f\"   🔴 High: {high:,} pixels ({100*high/total:.1f}%)\")\n",
    "print(f\"   🟡 Medium: {medium:,} pixels ({100*medium/total:.1f}%)\")\n",
    "print(f\"   🟢 Low: {low:,} pixels ({100*low/total:.1f}%)\")\n",
    "\n",
    "print(\"\\n\" + \"=\"*60)\n",
    "print(\"✓ ANALYSIS COMPLETE!\")\n",
    "print(\"=\"*60)"
   ]
  }
 ],
 "metadata": {
  "kernelspec": {
   "display_name": "geo3",
   "language": "python",
   "name": "python3"
  },
  "language_info": {
   "codemirror_mode": {
    "name": "ipython",
    "version": 3
   },
   "file_extension": ".py",
   "mimetype": "text/x-python",
   "name": "python",
   "nbconvert_exporter": "python",
   "pygments_lexer": "ipython3",
   "version": "3.11.13"
  }
 },
 "nbformat": 4,
 "nbformat_minor": 5
}
